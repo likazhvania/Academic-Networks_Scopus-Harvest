{
 "cells": [
  {
   "cell_type": "code",
   "execution_count": null,
   "id": "a3e62dd9-bb79-4f3d-bca8-c33879fdc4d7",
   "metadata": {},
   "outputs": [],
   "source": [
    "# Later: one‑time conversion pipeline\n",
    "# Once you decide on cleaning & schema:\n",
    "\n",
    "import pandas as pd, gzip, json, glob\n",
    "\n",
    "frames = []\n",
    "for path in glob.glob(\"raw_json/*.jsonl.gz\"):\n",
    "    with gzip.open(path, \"rt\", encoding=\"utf-8\") as gz:\n",
    "        batch = [json.loads(line) for line in gz]\n",
    "    frames.append(pd.json_normalize(batch))\n",
    "\n",
    "big_df = pd.concat(frames, ignore_index=True)\n",
    "big_df.to_parquet(\"scopus_2000_2024.parquet\")   # column‑preserving, compressed"
   ]
  }
 ],
 "metadata": {
  "kernelspec": {
   "display_name": "Python 3 (ipykernel)",
   "language": "python",
   "name": "python3"
  },
  "language_info": {
   "codemirror_mode": {
    "name": "ipython",
    "version": 3
   },
   "file_extension": ".py",
   "mimetype": "text/x-python",
   "name": "python",
   "nbconvert_exporter": "python",
   "pygments_lexer": "ipython3",
   "version": "3.8.15"
  }
 },
 "nbformat": 4,
 "nbformat_minor": 5
}
